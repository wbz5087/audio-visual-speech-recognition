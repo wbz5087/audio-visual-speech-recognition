{
 "cells": [
  {
   "cell_type": "code",
   "execution_count": 1,
   "metadata": {},
   "outputs": [
    {
     "name": "stderr",
     "output_type": "stream",
     "text": [
      "Using TensorFlow backend.\n"
     ]
    }
   ],
   "source": [
    "from Audio import Audio\n",
    "from Video import Video\n",
    "from keras.models import Sequential,Model\n",
    "from keras.layers.normalization import BatchNormalization\n",
    "from keras.layers.convolutional import Conv2D,Conv3D,Conv1D\n",
    "from keras.layers.convolutional import MaxPooling2D,MaxPooling3D,MaxPooling1D\n",
    "from keras.layers.core import Activation\n",
    "from keras.layers.core import Flatten\n",
    "from keras.layers.core import Dropout\n",
    "from keras.layers.core import Dense\n",
    "from keras.layers import LSTM,Input,GlobalAveragePooling1D,Concatenate,GlobalAveragePooling2D\n",
    "from keras import backend as K\n",
    "from keras.optimizers import Adam,SGD\n",
    "from keras.callbacks import ModelCheckpoint\n",
    "from keras.layers.wrappers import TimeDistributed, Bidirectional\n",
    "import tensorflow as tf\n",
    "from keras.models import load_model\n",
    "from Audio_visual import Audio_visual\n",
    "#from keras.layers.extra import TimeDistributedConvolution2D, TimeDistributedMaxPooling2D, TimeDistributedFlatten"
   ]
  },
  {
   "cell_type": "raw",
   "metadata": {},
   "source": [
    "video = Video(path='save/')\n",
    "audio = Audio(path='audio/save/')\n",
    "\n",
    "Y1,classes1=video.get_class()\n",
    "Y,classes=audio.get_class()"
   ]
  },
  {
   "cell_type": "code",
   "execution_count": 2,
   "metadata": {},
   "outputs": [],
   "source": [
    "audio_visual = Audio_visual(path='save')\n",
    "Y,classes=audio_visual.get_class()"
   ]
  },
  {
   "cell_type": "code",
   "execution_count": 3,
   "metadata": {},
   "outputs": [
    {
     "name": "stdout",
     "output_type": "stream",
     "text": [
      "[INFO] loading images...\n",
      "[INFO] loading images...\n",
      "[INFO] loading images...\n"
     ]
    }
   ],
   "source": [
    "trainlist=audio_visual.generate_file_list(p='train')\n",
    "vallist = audio_visual.generate_file_list(p='val')\n",
    "testlist = audio_visual.generate_file_list(p='test')"
   ]
  },
  {
   "cell_type": "raw",
   "metadata": {},
   "source": [
    "fileObject = open('Y.txt', 'w')\n",
    "for ip in Y:\n",
    "    fileObject.write(ip)\n",
    "    fileObject.write('\\n')\n",
    "fileObject.close()\n",
    "\n",
    "fileObject = open('trainlist.txt', 'w')\n",
    "for ip in trainlist:\n",
    "    fileObject.write(ip)\n",
    "    fileObject.write('\\n')\n",
    "fileObject.close()\n",
    "\n",
    "\n",
    "# fileObject = open('vallist.txt', 'w')\n",
    "# for ip in trainlist:\n",
    "#     fileObject.write(ip)\n",
    "#     fileObject.write('\\n')\n",
    "# fileObject.close()"
   ]
  },
  {
   "cell_type": "code",
   "execution_count": 4,
   "metadata": {},
   "outputs": [],
   "source": [
    "class_num=500"
   ]
  },
  {
   "cell_type": "code",
   "execution_count": 5,
   "metadata": {},
   "outputs": [],
   "source": [
    "#inputShape = (29,120,120,3)\n",
    "input1 = Input(shape = (29,120,120,3))\n",
    "\n",
    "conv3d = Conv3D(64,(5,7,7),padding = 'same',\n",
    "                strides = (1,2,2), activation='relu')(input1)\n",
    "batch_norm1 = BatchNormalization()(conv3d)\n",
    "maxpool3d = MaxPooling3D(pool_size=(1,2,2),padding='same')(batch_norm1)\n",
    "drop1 = Dropout(0.1)(maxpool3d)\n",
    "\n",
    "time_conv2d = TimeDistributed(Conv2D(128,(3,3),activation = 'relu'))(drop1)\n",
    "batch_norm2 = BatchNormalization()(time_conv2d)\n",
    "time_maxpool2d = TimeDistributed(MaxPooling2D(2,2))(batch_norm2)\n",
    "drop2 = Dropout(0.1)(time_maxpool2d)\n",
    "\n",
    "time_conv2d = TimeDistributed(Conv2D(256,(3,3),activation = 'relu'))(drop2)\n",
    "batch_norm2 = BatchNormalization()(time_conv2d)\n",
    "time_maxpool2d = TimeDistributed(MaxPooling2D(2,2))(batch_norm2)\n",
    "drop2 = Dropout(0.1)(time_maxpool2d)\n",
    "\n",
    "time_conv2d = TimeDistributed(Conv2D(512,(3,3),activation = 'relu'))(drop2)\n",
    "batch_norm3 = BatchNormalization()(time_conv2d)\n",
    "time_maxpool2d = TimeDistributed(MaxPooling2D(2,2))(batch_norm3)\n",
    "drop3 = Dropout(0.1)(time_maxpool2d)\n",
    "\n",
    "time_flatten = TimeDistributed(GlobalAveragePooling2D())(time_maxpool2d)\n",
    "\n",
    "bilstm1 = Bidirectional(LSTM(256,return_sequences=True,dropout=0.1,\n",
    "                            name='bilstm'))(time_flatten)\n",
    "#bilstm2 = Bidirectional(LSTM(128,return_sequences=True))(bilstm1)\n",
    "\n",
    "avg = GlobalAveragePooling1D(name='avg')(bilstm1)\n",
    "dense1 = Dense(512,activation='relu')(avg)\n",
    "batch_norm4 = BatchNormalization()(dense1)\n",
    "dense2 = Dense(class_num,activation = 'softmax')(batch_norm4)\n",
    "\n",
    "video_model = Model(inputs=[input1], \n",
    "              outputs=[dense2])"
   ]
  },
  {
   "cell_type": "code",
   "execution_count": 6,
   "metadata": {},
   "outputs": [],
   "source": [
    "video_model.load_weights('video_weights/weights-improvement-08-0.68.hdf5')\n",
    "video_model.trainable=False"
   ]
  },
  {
   "cell_type": "code",
   "execution_count": 7,
   "metadata": {},
   "outputs": [
    {
     "name": "stdout",
     "output_type": "stream",
     "text": [
      "WARNING:tensorflow:From /home/oscar/anaconda2/lib/python2.7/site-packages/tensorflow/python/util/deprecation.py:497: calling conv1d (from tensorflow.python.ops.nn_ops) with data_format=NHWC is deprecated and will be removed in a future version.\n",
      "Instructions for updating:\n",
      "`NHWC` for data_format is deprecated, use `NWC` instead\n"
     ]
    }
   ],
   "source": [
    "input_audio = Input(shape = (26,121))\n",
    "\n",
    "conv1d_1 = Conv1D(64,kernel_size = 3,strides=1, padding = 'same',\n",
    "               activation = 'relu')(input_audio)\n",
    "\n",
    "batch_norm1 = BatchNormalization()(conv1d_1)\n",
    "\n",
    "batch_norm1 = MaxPooling1D(pool_size=2,padding = 'same')(batch_norm1)\n",
    "\n",
    "conv1d_2 = Conv1D(128,kernel_size = 3, strides = 1, padding = 'same',\n",
    "               activation = 'relu')(batch_norm1)\n",
    "\n",
    "batch_norm2 = BatchNormalization()(conv1d_2)\n",
    "batch_norm2 = MaxPooling1D(pool_size=2,padding = 'same')(batch_norm2)\n",
    "\n",
    "conv1d_2 = Conv1D(512,kernel_size = 3, strides = 1, padding = 'same',\n",
    "               activation = 'relu')(batch_norm2)\n",
    "\n",
    "batch_norm2 = BatchNormalization()(conv1d_2)\n",
    "batch_norm2 = MaxPooling1D(pool_size=2,padding = 'same')(batch_norm2)\n",
    "\n",
    "bilstm1 = Bidirectional(LSTM(256,return_sequences=True,name='bilstm1'))(batch_norm2)\n",
    "#bilstm2 = Bidirectional(LSTM(256,return_sequences=True),name = 'bilstm2')(bilstm1)\n",
    "\n",
    "avgpool = GlobalAveragePooling1D(name='audio_avg')(bilstm1)\n",
    "\n",
    "dense1 = Dense(512,activation='relu')(avgpool)\n",
    "batch_norm3 = BatchNormalization()(dense1)\n",
    "dense2 = Dense(class_num,activation = 'softmax')(batch_norm3)\n",
    "\n",
    "audio_model = Model(inputs=[input_audio], \n",
    "              outputs=[dense2])"
   ]
  },
  {
   "cell_type": "code",
   "execution_count": 8,
   "metadata": {
    "scrolled": true
   },
   "outputs": [
    {
     "name": "stdout",
     "output_type": "stream",
     "text": [
      "_________________________________________________________________\n",
      "Layer (type)                 Output Shape              Param #   \n",
      "=================================================================\n",
      "input_2 (InputLayer)         (None, 26, 121)           0         \n",
      "_________________________________________________________________\n",
      "conv1d_1 (Conv1D)            (None, 26, 64)            23296     \n",
      "_________________________________________________________________\n",
      "batch_normalization_6 (Batch (None, 26, 64)            256       \n",
      "_________________________________________________________________\n",
      "max_pooling1d_1 (MaxPooling1 (None, 13, 64)            0         \n",
      "_________________________________________________________________\n",
      "conv1d_2 (Conv1D)            (None, 13, 128)           24704     \n",
      "_________________________________________________________________\n",
      "batch_normalization_7 (Batch (None, 13, 128)           512       \n",
      "_________________________________________________________________\n",
      "max_pooling1d_2 (MaxPooling1 (None, 7, 128)            0         \n",
      "_________________________________________________________________\n",
      "conv1d_3 (Conv1D)            (None, 7, 512)            197120    \n",
      "_________________________________________________________________\n",
      "batch_normalization_8 (Batch (None, 7, 512)            2048      \n",
      "_________________________________________________________________\n",
      "max_pooling1d_3 (MaxPooling1 (None, 4, 512)            0         \n",
      "_________________________________________________________________\n",
      "bidirectional_2 (Bidirection (None, 4, 512)            1574912   \n",
      "_________________________________________________________________\n",
      "audio_avg (GlobalAveragePool (None, 512)               0         \n",
      "_________________________________________________________________\n",
      "dense_3 (Dense)              (None, 512)               262656    \n",
      "_________________________________________________________________\n",
      "batch_normalization_9 (Batch (None, 512)               2048      \n",
      "_________________________________________________________________\n",
      "dense_4 (Dense)              (None, 500)               256500    \n",
      "=================================================================\n",
      "Total params: 2,344,052\n",
      "Trainable params: 0\n",
      "Non-trainable params: 2,344,052\n",
      "_________________________________________________________________\n"
     ]
    }
   ],
   "source": [
    "audio_model.load_weights('audio_weights/first-improvement-11-0.82.hdf5')\n",
    "audio_model.trainable=False\n",
    "audio_model.summary()"
   ]
  },
  {
   "cell_type": "code",
   "execution_count": 9,
   "metadata": {},
   "outputs": [],
   "source": [
    "class_num=500\n",
    "video_result = video_model.get_layer('avg').output\n",
    "audio_result = audio_model.get_layer('audio_avg').output\n",
    "\n",
    "concatenate = Concatenate()([video_result,audio_result])\n",
    "\n",
    "dense1 = Dense(512,activation='relu')(concatenate)\n",
    "batchnorm = BatchNormalization()(dense1)\n",
    "output=Dense(class_num,activation='softmax')(batchnorm)\n"
   ]
  },
  {
   "cell_type": "code",
   "execution_count": 10,
   "metadata": {},
   "outputs": [
    {
     "name": "stdout",
     "output_type": "stream",
     "text": [
      "__________________________________________________________________________________________________\n",
      "Layer (type)                    Output Shape         Param #     Connected to                     \n",
      "==================================================================================================\n",
      "input_1 (InputLayer)            (None, 29, 120, 120, 0                                            \n",
      "__________________________________________________________________________________________________\n",
      "conv3d_1 (Conv3D)               (None, 29, 60, 60, 6 47104       input_1[0][0]                    \n",
      "__________________________________________________________________________________________________\n",
      "batch_normalization_1 (BatchNor (None, 29, 60, 60, 6 256         conv3d_1[0][0]                   \n",
      "__________________________________________________________________________________________________\n",
      "max_pooling3d_1 (MaxPooling3D)  (None, 29, 30, 30, 6 0           batch_normalization_1[0][0]      \n",
      "__________________________________________________________________________________________________\n",
      "dropout_1 (Dropout)             (None, 29, 30, 30, 6 0           max_pooling3d_1[0][0]            \n",
      "__________________________________________________________________________________________________\n",
      "time_distributed_1 (TimeDistrib (None, 29, 28, 28, 1 73856       dropout_1[0][0]                  \n",
      "__________________________________________________________________________________________________\n",
      "batch_normalization_2 (BatchNor (None, 29, 28, 28, 1 512         time_distributed_1[0][0]         \n",
      "__________________________________________________________________________________________________\n",
      "time_distributed_2 (TimeDistrib (None, 29, 14, 14, 1 0           batch_normalization_2[0][0]      \n",
      "__________________________________________________________________________________________________\n",
      "input_2 (InputLayer)            (None, 26, 121)      0                                            \n",
      "__________________________________________________________________________________________________\n",
      "dropout_2 (Dropout)             (None, 29, 14, 14, 1 0           time_distributed_2[0][0]         \n",
      "__________________________________________________________________________________________________\n",
      "conv1d_1 (Conv1D)               (None, 26, 64)       23296       input_2[0][0]                    \n",
      "__________________________________________________________________________________________________\n",
      "time_distributed_3 (TimeDistrib (None, 29, 12, 12, 2 295168      dropout_2[0][0]                  \n",
      "__________________________________________________________________________________________________\n",
      "batch_normalization_6 (BatchNor (None, 26, 64)       256         conv1d_1[0][0]                   \n",
      "__________________________________________________________________________________________________\n",
      "batch_normalization_3 (BatchNor (None, 29, 12, 12, 2 1024        time_distributed_3[0][0]         \n",
      "__________________________________________________________________________________________________\n",
      "max_pooling1d_1 (MaxPooling1D)  (None, 13, 64)       0           batch_normalization_6[0][0]      \n",
      "__________________________________________________________________________________________________\n",
      "time_distributed_4 (TimeDistrib (None, 29, 6, 6, 256 0           batch_normalization_3[0][0]      \n",
      "__________________________________________________________________________________________________\n",
      "conv1d_2 (Conv1D)               (None, 13, 128)      24704       max_pooling1d_1[0][0]            \n",
      "__________________________________________________________________________________________________\n",
      "dropout_3 (Dropout)             (None, 29, 6, 6, 256 0           time_distributed_4[0][0]         \n",
      "__________________________________________________________________________________________________\n",
      "batch_normalization_7 (BatchNor (None, 13, 128)      512         conv1d_2[0][0]                   \n",
      "__________________________________________________________________________________________________\n",
      "time_distributed_5 (TimeDistrib (None, 29, 4, 4, 512 1180160     dropout_3[0][0]                  \n",
      "__________________________________________________________________________________________________\n",
      "max_pooling1d_2 (MaxPooling1D)  (None, 7, 128)       0           batch_normalization_7[0][0]      \n",
      "__________________________________________________________________________________________________\n",
      "batch_normalization_4 (BatchNor (None, 29, 4, 4, 512 2048        time_distributed_5[0][0]         \n",
      "__________________________________________________________________________________________________\n",
      "conv1d_3 (Conv1D)               (None, 7, 512)       197120      max_pooling1d_2[0][0]            \n",
      "__________________________________________________________________________________________________\n",
      "time_distributed_6 (TimeDistrib (None, 29, 2, 2, 512 0           batch_normalization_4[0][0]      \n",
      "__________________________________________________________________________________________________\n",
      "batch_normalization_8 (BatchNor (None, 7, 512)       2048        conv1d_3[0][0]                   \n",
      "__________________________________________________________________________________________________\n",
      "time_distributed_7 (TimeDistrib (None, 29, 512)      0           time_distributed_6[0][0]         \n",
      "__________________________________________________________________________________________________\n",
      "max_pooling1d_3 (MaxPooling1D)  (None, 4, 512)       0           batch_normalization_8[0][0]      \n",
      "__________________________________________________________________________________________________\n",
      "bidirectional_1 (Bidirectional) (None, 29, 512)      1574912     time_distributed_7[0][0]         \n",
      "__________________________________________________________________________________________________\n",
      "bidirectional_2 (Bidirectional) (None, 4, 512)       1574912     max_pooling1d_3[0][0]            \n",
      "__________________________________________________________________________________________________\n",
      "avg (GlobalAveragePooling1D)    (None, 512)          0           bidirectional_1[0][0]            \n",
      "__________________________________________________________________________________________________\n",
      "audio_avg (GlobalAveragePooling (None, 512)          0           bidirectional_2[0][0]            \n",
      "__________________________________________________________________________________________________\n",
      "concatenate_1 (Concatenate)     (None, 1024)         0           avg[0][0]                        \n",
      "                                                                 audio_avg[0][0]                  \n",
      "__________________________________________________________________________________________________\n",
      "dense_5 (Dense)                 (None, 512)          524800      concatenate_1[0][0]              \n",
      "__________________________________________________________________________________________________\n",
      "batch_normalization_10 (BatchNo (None, 512)          2048        dense_5[0][0]                    \n",
      "__________________________________________________________________________________________________\n",
      "dense_6 (Dense)                 (None, 500)          256500      batch_normalization_10[0][0]     \n",
      "==================================================================================================\n",
      "Total params: 5,781,236\n",
      "Trainable params: 5,776,884\n",
      "Non-trainable params: 4,352\n",
      "__________________________________________________________________________________________________\n"
     ]
    }
   ],
   "source": [
    "model = Model(inputs=[video_model.input,audio_model.input], \n",
    "              outputs=[output])\n",
    "model.summary()"
   ]
  },
  {
   "cell_type": "code",
   "execution_count": 11,
   "metadata": {},
   "outputs": [
    {
     "name": "stdout",
     "output_type": "stream",
     "text": [
      "[INFO] compiling model...\n"
     ]
    }
   ],
   "source": [
    "print(\"[INFO] compiling model...\")\n",
    "sgd = SGD(lr=0.005, decay=1e-6, momentum=0.9)\n",
    "#adam = Adam(lr = 0.003,decay=1e-6)\n",
    "model.compile(loss=\"categorical_crossentropy\", optimizer=sgd,\n",
    "\tmetrics=[\"accuracy\"])"
   ]
  },
  {
   "cell_type": "code",
   "execution_count": 12,
   "metadata": {},
   "outputs": [],
   "source": [
    "from keras.callbacks import EarlyStopping"
   ]
  },
  {
   "cell_type": "code",
   "execution_count": 13,
   "metadata": {
    "scrolled": true
   },
   "outputs": [
    {
     "name": "stdout",
     "output_type": "stream",
     "text": [
      "[INFO] training network...\n",
      "WARNING:tensorflow:Variable *= will be deprecated. Use variable.assign_mul if you want assignment to the variable value or 'x = x * y' if you want a new python Tensor object.\n",
      "Epoch 1/8\n",
      "10137/10182 [============================>.] - ETA: 4:56 - loss: 0.4412 - acc: 0.9023save/LIVING/train/LIVING_00834\n",
      "10182/10182 [==============================] - 70992s 7s/step - loss: 0.4398 - acc: 0.9026 - val_loss: 0.2795 - val_acc: 0.9195\n",
      "\n",
      "Epoch 00001: val_acc improved from -inf to 0.91947, saving model to weights/weights-improvement-01-0.92.hdf5\n",
      "Epoch 2/8\n",
      " 6312/10182 [=================>............] - ETA: 6:21:53 - loss: 0.1126 - acc: 0.9701save/LIVING/train/LIVING_00834\n",
      "10182/10182 [==============================] - 66633s 7s/step - loss: 0.0996 - acc: 0.9739 - val_loss: 0.2592 - val_acc: 0.9252\n",
      "\n",
      "Epoch 00002: val_acc improved from 0.91947 to 0.92520, saving model to weights/weights-improvement-02-0.93.hdf5\n",
      "Epoch 3/8\n",
      " 3076/10182 [========>.....................] - ETA: 11:52:16 - loss: 0.0816 - acc: 0.9776save/LIVING/train/LIVING_00834\n",
      " 7348/10182 [====================>.........] - ETA: 4:39:52 - loss: 0.0658 - acc: 0.9829save/LIVING/train/LIVING_00834\n",
      "10182/10182 [==============================] - 61873s 6s/step - loss: 0.0597 - acc: 0.9848 - val_loss: 0.2554 - val_acc: 0.9274\n",
      "\n",
      "Epoch 00003: val_acc improved from 0.92520 to 0.92736, saving model to weights/weights-improvement-03-0.93.hdf5\n",
      "Epoch 4/8\n",
      " 4627/10182 [============>.................] - ETA: 8:35:57 - loss: 0.0486 - acc: 0.9879save/LIVING/train/LIVING_00834\n",
      "10182/10182 [==============================] - 60057s 6s/step - loss: 0.0393 - acc: 0.9909 - val_loss: 0.2492 - val_acc: 0.9290\n",
      "\n",
      "Epoch 00004: val_acc improved from 0.92736 to 0.92905, saving model to weights/weights-improvement-04-0.93.hdf5\n",
      "Epoch 5/8\n",
      " 4349/10182 [===========>..................] - ETA: 9:41:55 - loss: 0.0353 - acc: 0.9913save/LIVING/train/LIVING_00834\n",
      " 5331/10182 [==============>...............] - ETA: 7:55:46 - loss: 0.0326 - acc: 0.9922save/LIVING/train/LIVING_00834\n",
      "10182/10182 [==============================] - 61863s 6s/step - loss: 0.0257 - acc: 0.9946 - val_loss: 0.2434 - val_acc: 0.9321\n",
      "\n",
      "Epoch 00005: val_acc improved from 0.92905 to 0.93209, saving model to weights/weights-improvement-05-0.93.hdf5\n",
      "Epoch 6/8\n",
      " 5175/10182 [==============>...............] - ETA: 8:11:49 - loss: 0.0192 - acc: 0.9966save/LIVING/train/LIVING_00834\n",
      " 7497/10182 [=====================>........] - ETA: 4:21:44 - loss: 0.0168 - acc: 0.9973save/LIVING/train/LIVING_00834\n",
      "10182/10182 [==============================] - 64198s 6s/step - loss: 0.0150 - acc: 0.9978 - val_loss: 0.2435 - val_acc: 0.9341\n",
      "\n",
      "Epoch 00006: val_acc improved from 0.93209 to 0.93413, saving model to weights/weights-improvement-06-0.93.hdf5\n",
      "Epoch 7/8\n",
      " 2471/10182 [======>.......................] - ETA: 14:40:20 - loss: 0.0110 - acc: 0.9987save/LIVING/train/LIVING_00834\n",
      " 8517/10182 [========================>.....] - ETA: 2:59:19 - loss: 0.0094 - acc: 0.9991save/LIVING/train/LIVING_00834\n",
      "10182/10182 [==============================] - 68355s 7s/step - loss: 0.0091 - acc: 0.9991 - val_loss: 0.2418 - val_acc: 0.9342\n",
      "\n",
      "Epoch 00007: val_acc improved from 0.93413 to 0.93417, saving model to weights/weights-improvement-07-0.93.hdf5\n",
      "Epoch 8/8\n",
      " 3728/10182 [=========>....................] - ETA: 11:49:11 - loss: 0.0072 - acc: 0.9995save/LIVING/train/LIVING_00834\n",
      "10182/10182 [==============================] - 69715s 7s/step - loss: 0.0066 - acc: 0.9996 - val_loss: 0.2463 - val_acc: 0.9345\n",
      "\n",
      "Epoch 00008: val_acc improved from 0.93417 to 0.93446, saving model to weights/weights-improvement-08-0.93.hdf5\n"
     ]
    }
   ],
   "source": [
    "print(\"[INFO] training network...\")\n",
    "sample_number = len(trainlist)\n",
    "val_number = len(vallist)\n",
    "#print(sample_number)\n",
    "filepath=\"weights/weights-improvement-{epoch:02d}-{val_acc:.2f}.hdf5\"\n",
    "checkpoint = ModelCheckpoint(filepath, monitor='val_acc', verbose=1, save_best_only=True,\n",
    "mode='max')\n",
    "stopper = EarlyStopping(monitor='val_acc',patience=3)\n",
    "callbacks_list = [checkpoint,stopper]\n",
    "\n",
    "history = model.fit_generator(audio_visual.generate_array(trainlist,batch_size=48),\n",
    "                        validation_data=\n",
    "                    audio_visual.generate_array(vallist,batch_size=48),\n",
    "                        steps_per_epoch=sample_number // 48,\n",
    "                    validation_steps = val_number//48,\n",
    "                        epochs=8, verbose=1,\n",
    "                   callbacks = callbacks_list)"
   ]
  },
  {
   "cell_type": "code",
   "execution_count": 16,
   "metadata": {},
   "outputs": [
    {
     "data": {
      "image/png": "[encoded data removed]",
      "text/plain": [
       "<matplotlib.figure.Figure at 0x7f469c8ca410>"
      ]
     },
     "metadata": {},
     "output_type": "display_data"
    }
   ],
   "source": [
    "import matplotlib.pyplot as plt\n",
    "plt.plot(history.history['acc'])\n",
    "plt.plot(history.history['val_acc'])\n",
    "plt.title('model accuracy')\n",
    "plt.ylabel('accuracy')\n",
    "plt.xlabel('epoch')\n",
    "plt.legend(['train','val'],loc='upper left')\n",
    "plt.savefig('audiovisualacc.png')\n",
    "plt.show()\n",
    "\n",
    "plt.plot(history.history['loss'])\n",
    "plt.plot(history.history['val_loss'])\n",
    "plt.title('model loss')\n",
    "plt.ylabel('loss')\n",
    "plt.xlabel('epoch')\n",
    "plt.legend(['train','val'],loc='upper left')\n",
    "plt.savefig('audiovisualloss.png')\n",
    "plt.show()\n"
   ]
  },
  {
   "cell_type": "code",
   "execution_count": 15,
   "metadata": {},
   "outputs": [
    {
     "ename": "NameError",
     "evalue": "name 'video' is not defined",
     "output_type": "error",
     "traceback": [
      "\u001b[0;31m---------------------------------------------------------------------------\u001b[0m",
      "\u001b[0;31mNameError\u001b[0m                                 Traceback (most recent call last)",
      "\u001b[0;32m<ipython-input-15-2456f42dfb34>\u001b[0m in \u001b[0;36m<module>\u001b[0;34m()\u001b[0m\n\u001b[0;32m----> 1\u001b[0;31m model.evaluate_generator(video.generate_array(testlist,batch_size=48),\n\u001b[0m\u001b[1;32m      2\u001b[0m                          steps=len(testlist)//48)\n",
      "\u001b[0;31mNameError\u001b[0m: name 'video' is not defined"
     ]
    }
   ],
   "source": [
    "model.evaluate_generator(audio_visual.generate_array(testlist,batch_size=48),\n",
    "                         steps=len(testlist)//48)"
   ]
  },
  {
   "cell_type": "code",
   "execution_count": null,
   "metadata": {},
   "outputs": [],
   "source": []
  }
 ],
 "metadata": {
  "kernelspec": {
   "display_name": "Python 2",
   "language": "python",
   "name": "python2"
  },
  "language_info": {
   "codemirror_mode": {
    "name": "ipython",
    "version": 2
   },
   "file_extension": ".py",
   "mimetype": "text/x-python",
   "name": "python",
   "nbconvert_exporter": "python",
   "pygments_lexer": "ipython2",
   "version": "2.7.14"
  }
 },
 "nbformat": 4,
 "nbformat_minor": 2
}
